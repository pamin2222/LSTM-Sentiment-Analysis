{
 "cells": [
  {
   "cell_type": "code",
   "execution_count": 14,
   "metadata": {},
   "outputs": [
    {
     "name": "stdout",
     "output_type": "stream",
     "text": [
      "training.1600000.processed.noemoticon.csv\n",
      "training.1600000.processed.noemoticon.csv.zip\n",
      "\n"
     ]
    }
   ],
   "source": [
    "import numpy as np \n",
    "import pandas as pd\n",
    "from sklearn.model_selection import train_test_split\n",
    "from subprocess import check_output\n",
    "print(check_output([\"ls\", \"twitter_data/\"]).decode(\"utf8\"))"
   ]
  },
  {
   "cell_type": "code",
   "execution_count": 31,
   "metadata": {
    "collapsed": true
   },
   "outputs": [],
   "source": [
    "twitter_data_path = \"twitter_data/training.1600000.processed.noemoticon.csv\""
   ]
  },
  {
   "cell_type": "code",
   "execution_count": 32,
   "metadata": {
    "collapsed": true
   },
   "outputs": [],
   "source": [
    "tw_data_df = pd.read_csv(twitter_data_path, engine='python', header=None)"
   ]
  },
  {
   "cell_type": "code",
   "execution_count": 33,
   "metadata": {},
   "outputs": [
    {
     "data": {
      "text/html": [
       "<div>\n",
       "<style>\n",
       "    .dataframe thead tr:only-child th {\n",
       "        text-align: right;\n",
       "    }\n",
       "\n",
       "    .dataframe thead th {\n",
       "        text-align: left;\n",
       "    }\n",
       "\n",
       "    .dataframe tbody tr th {\n",
       "        vertical-align: top;\n",
       "    }\n",
       "</style>\n",
       "<table border=\"1\" class=\"dataframe\">\n",
       "  <thead>\n",
       "    <tr style=\"text-align: right;\">\n",
       "      <th></th>\n",
       "      <th>0</th>\n",
       "      <th>1</th>\n",
       "      <th>2</th>\n",
       "      <th>3</th>\n",
       "      <th>4</th>\n",
       "      <th>5</th>\n",
       "    </tr>\n",
       "  </thead>\n",
       "  <tbody>\n",
       "    <tr>\n",
       "      <th>0</th>\n",
       "      <td>0</td>\n",
       "      <td>1467810369</td>\n",
       "      <td>Mon Apr 06 22:19:45 PDT 2009</td>\n",
       "      <td>NO_QUERY</td>\n",
       "      <td>_TheSpecialOne_</td>\n",
       "      <td>@switchfoot http://twitpic.com/2y1zl - Awww, t...</td>\n",
       "    </tr>\n",
       "    <tr>\n",
       "      <th>1</th>\n",
       "      <td>0</td>\n",
       "      <td>1467810672</td>\n",
       "      <td>Mon Apr 06 22:19:49 PDT 2009</td>\n",
       "      <td>NO_QUERY</td>\n",
       "      <td>scotthamilton</td>\n",
       "      <td>is upset that he can't update his Facebook by ...</td>\n",
       "    </tr>\n",
       "    <tr>\n",
       "      <th>2</th>\n",
       "      <td>0</td>\n",
       "      <td>1467810917</td>\n",
       "      <td>Mon Apr 06 22:19:53 PDT 2009</td>\n",
       "      <td>NO_QUERY</td>\n",
       "      <td>mattycus</td>\n",
       "      <td>@Kenichan I dived many times for the ball. Man...</td>\n",
       "    </tr>\n",
       "    <tr>\n",
       "      <th>3</th>\n",
       "      <td>0</td>\n",
       "      <td>1467811184</td>\n",
       "      <td>Mon Apr 06 22:19:57 PDT 2009</td>\n",
       "      <td>NO_QUERY</td>\n",
       "      <td>ElleCTF</td>\n",
       "      <td>my whole body feels itchy and like its on fire</td>\n",
       "    </tr>\n",
       "    <tr>\n",
       "      <th>4</th>\n",
       "      <td>0</td>\n",
       "      <td>1467811193</td>\n",
       "      <td>Mon Apr 06 22:19:57 PDT 2009</td>\n",
       "      <td>NO_QUERY</td>\n",
       "      <td>Karoli</td>\n",
       "      <td>@nationwideclass no, it's not behaving at all....</td>\n",
       "    </tr>\n",
       "  </tbody>\n",
       "</table>\n",
       "</div>"
      ],
      "text/plain": [
       "   0           1                             2         3                4  \\\n",
       "0  0  1467810369  Mon Apr 06 22:19:45 PDT 2009  NO_QUERY  _TheSpecialOne_   \n",
       "1  0  1467810672  Mon Apr 06 22:19:49 PDT 2009  NO_QUERY    scotthamilton   \n",
       "2  0  1467810917  Mon Apr 06 22:19:53 PDT 2009  NO_QUERY         mattycus   \n",
       "3  0  1467811184  Mon Apr 06 22:19:57 PDT 2009  NO_QUERY          ElleCTF   \n",
       "4  0  1467811193  Mon Apr 06 22:19:57 PDT 2009  NO_QUERY           Karoli   \n",
       "\n",
       "                                                   5  \n",
       "0  @switchfoot http://twitpic.com/2y1zl - Awww, t...  \n",
       "1  is upset that he can't update his Facebook by ...  \n",
       "2  @Kenichan I dived many times for the ball. Man...  \n",
       "3    my whole body feels itchy and like its on fire   \n",
       "4  @nationwideclass no, it's not behaving at all....  "
      ]
     },
     "execution_count": 33,
     "metadata": {},
     "output_type": "execute_result"
    }
   ],
   "source": [
    "tw_data_df.head()"
   ]
  },
  {
   "cell_type": "markdown",
   "metadata": {},
   "source": [
    "## Spliting Train and Test data"
   ]
  },
  {
   "cell_type": "code",
   "execution_count": 34,
   "metadata": {},
   "outputs": [
    {
     "name": "stdout",
     "output_type": "stream",
     "text": [
      "Negative Count: 800000\n",
      "Positive Count: 800000\n"
     ]
    }
   ],
   "source": [
    "print(\"Negative Count:\", len(tw_data_df[tw_data_df[0]==4]))\n",
    "print(\"Positive Count:\", len(tw_data_df[tw_data_df[0]==0]))"
   ]
  },
  {
   "cell_type": "code",
   "execution_count": 35,
   "metadata": {
    "collapsed": true
   },
   "outputs": [],
   "source": [
    "X_train_df, X_test_df, y_train, y_test = train_test_split(tw_data_df, tw_data_df[[0]], test_size=0.3)"
   ]
  },
  {
   "cell_type": "code",
   "execution_count": 36,
   "metadata": {},
   "outputs": [
    {
     "name": "stdout",
     "output_type": "stream",
     "text": [
      "Train Negative Count: 560137\n",
      "Train Positive Count: 559863\n"
     ]
    }
   ],
   "source": [
    "print(\"Train Negative Count:\", len(X_train_df[X_train_df[0]==4]))\n",
    "print(\"Train Positive Count:\", len(X_train_df[X_train_df[0]==0]))"
   ]
  },
  {
   "cell_type": "code",
   "execution_count": 37,
   "metadata": {},
   "outputs": [
    {
     "name": "stdout",
     "output_type": "stream",
     "text": [
      "Test Negative Count: 239863\n",
      "Test Positive Count: 240137\n"
     ]
    }
   ],
   "source": [
    "print(\"Test Negative Count:\", len(X_test_df[X_test_df[0]==4]))\n",
    "print(\"Test Positive Count:\", len(X_test_df[X_test_df[0]==0]))"
   ]
  },
  {
   "cell_type": "markdown",
   "metadata": {},
   "source": [
    "## Save Splited Train & Test to CSV"
   ]
  },
  {
   "cell_type": "code",
   "execution_count": 55,
   "metadata": {
    "collapsed": true
   },
   "outputs": [],
   "source": [
    "twitter_train_data_path = \"twitter_data/training.csv\"\n",
    "twitter_test_data_path = \"twitter_data/testing.csv\""
   ]
  },
  {
   "cell_type": "code",
   "execution_count": 56,
   "metadata": {
    "collapsed": true
   },
   "outputs": [],
   "source": [
    "X_train_df.to_csv(twitter_train_data_path, header=None, index=False)\n",
    "X_test_df.to_csv(twitter_test_data_path, header=None, index=False)"
   ]
  },
  {
   "cell_type": "markdown",
   "metadata": {},
   "source": [
    "## Checking"
   ]
  },
  {
   "cell_type": "code",
   "execution_count": 57,
   "metadata": {
    "collapsed": true
   },
   "outputs": [],
   "source": [
    "loaded_train_df = pd.read_csv(twitter_train_data_path, engine='python', header=None)\n",
    "loaded_test_df = pd.read_csv(twitter_test_data_path, engine='python', header=None)"
   ]
  },
  {
   "cell_type": "code",
   "execution_count": 58,
   "metadata": {},
   "outputs": [
    {
     "data": {
      "text/html": [
       "<div>\n",
       "<style>\n",
       "    .dataframe thead tr:only-child th {\n",
       "        text-align: right;\n",
       "    }\n",
       "\n",
       "    .dataframe thead th {\n",
       "        text-align: left;\n",
       "    }\n",
       "\n",
       "    .dataframe tbody tr th {\n",
       "        vertical-align: top;\n",
       "    }\n",
       "</style>\n",
       "<table border=\"1\" class=\"dataframe\">\n",
       "  <thead>\n",
       "    <tr style=\"text-align: right;\">\n",
       "      <th></th>\n",
       "      <th>0</th>\n",
       "      <th>1</th>\n",
       "      <th>2</th>\n",
       "      <th>3</th>\n",
       "      <th>4</th>\n",
       "      <th>5</th>\n",
       "    </tr>\n",
       "  </thead>\n",
       "  <tbody>\n",
       "    <tr>\n",
       "      <th>0</th>\n",
       "      <td>4</td>\n",
       "      <td>1793776320</td>\n",
       "      <td>Thu May 14 03:57:15 PDT 2009</td>\n",
       "      <td>NO_QUERY</td>\n",
       "      <td>foozzy</td>\n",
       "      <td>work to take some more pix, school, sushi?, th...</td>\n",
       "    </tr>\n",
       "    <tr>\n",
       "      <th>1</th>\n",
       "      <td>4</td>\n",
       "      <td>1991549874</td>\n",
       "      <td>Mon Jun 01 07:14:28 PDT 2009</td>\n",
       "      <td>NO_QUERY</td>\n",
       "      <td>12Jansi</td>\n",
       "      <td>@dagira_tweets: Just to say a 'Hi' to Dave's c...</td>\n",
       "    </tr>\n",
       "    <tr>\n",
       "      <th>2</th>\n",
       "      <td>0</td>\n",
       "      <td>1833914530</td>\n",
       "      <td>Mon May 18 00:55:25 PDT 2009</td>\n",
       "      <td>NO_QUERY</td>\n",
       "      <td>Jimmy_Saunders</td>\n",
       "      <td>@bswain Oh yeah, Mondays are the best</td>\n",
       "    </tr>\n",
       "    <tr>\n",
       "      <th>3</th>\n",
       "      <td>0</td>\n",
       "      <td>1966305086</td>\n",
       "      <td>Fri May 29 17:31:16 PDT 2009</td>\n",
       "      <td>NO_QUERY</td>\n",
       "      <td>Yo_lin</td>\n",
       "      <td>follow friday.. follow me coz i only have 26 f...</td>\n",
       "    </tr>\n",
       "    <tr>\n",
       "      <th>4</th>\n",
       "      <td>4</td>\n",
       "      <td>1984814005</td>\n",
       "      <td>Sun May 31 15:51:41 PDT 2009</td>\n",
       "      <td>NO_QUERY</td>\n",
       "      <td>mmoorejones</td>\n",
       "      <td>Getting iPhone today  Then movie with friends!</td>\n",
       "    </tr>\n",
       "  </tbody>\n",
       "</table>\n",
       "</div>"
      ],
      "text/plain": [
       "   0           1                             2         3               4  \\\n",
       "0  4  1793776320  Thu May 14 03:57:15 PDT 2009  NO_QUERY          foozzy   \n",
       "1  4  1991549874  Mon Jun 01 07:14:28 PDT 2009  NO_QUERY         12Jansi   \n",
       "2  0  1833914530  Mon May 18 00:55:25 PDT 2009  NO_QUERY  Jimmy_Saunders   \n",
       "3  0  1966305086  Fri May 29 17:31:16 PDT 2009  NO_QUERY          Yo_lin   \n",
       "4  4  1984814005  Sun May 31 15:51:41 PDT 2009  NO_QUERY     mmoorejones   \n",
       "\n",
       "                                                   5  \n",
       "0  work to take some more pix, school, sushi?, th...  \n",
       "1  @dagira_tweets: Just to say a 'Hi' to Dave's c...  \n",
       "2             @bswain Oh yeah, Mondays are the best   \n",
       "3  follow friday.. follow me coz i only have 26 f...  \n",
       "4     Getting iPhone today  Then movie with friends!  "
      ]
     },
     "execution_count": 58,
     "metadata": {},
     "output_type": "execute_result"
    }
   ],
   "source": [
    "loaded_train_df.head()"
   ]
  },
  {
   "cell_type": "code",
   "execution_count": 59,
   "metadata": {},
   "outputs": [
    {
     "data": {
      "text/html": [
       "<div>\n",
       "<style>\n",
       "    .dataframe thead tr:only-child th {\n",
       "        text-align: right;\n",
       "    }\n",
       "\n",
       "    .dataframe thead th {\n",
       "        text-align: left;\n",
       "    }\n",
       "\n",
       "    .dataframe tbody tr th {\n",
       "        vertical-align: top;\n",
       "    }\n",
       "</style>\n",
       "<table border=\"1\" class=\"dataframe\">\n",
       "  <thead>\n",
       "    <tr style=\"text-align: right;\">\n",
       "      <th></th>\n",
       "      <th>0</th>\n",
       "      <th>1</th>\n",
       "      <th>2</th>\n",
       "      <th>3</th>\n",
       "      <th>4</th>\n",
       "      <th>5</th>\n",
       "    </tr>\n",
       "  </thead>\n",
       "  <tbody>\n",
       "    <tr>\n",
       "      <th>0</th>\n",
       "      <td>4</td>\n",
       "      <td>1834009132</td>\n",
       "      <td>Mon May 18 01:16:44 PDT 2009</td>\n",
       "      <td>NO_QUERY</td>\n",
       "      <td>Pete_Hyena</td>\n",
       "      <td>uguigkuygffjhfhjfhj is about how i feel today....</td>\n",
       "    </tr>\n",
       "    <tr>\n",
       "      <th>1</th>\n",
       "      <td>0</td>\n",
       "      <td>2058782290</td>\n",
       "      <td>Sat Jun 06 15:37:01 PDT 2009</td>\n",
       "      <td>NO_QUERY</td>\n",
       "      <td>serioussarcasm</td>\n",
       "      <td>My voice is so tired from singing..i'm gonna k...</td>\n",
       "    </tr>\n",
       "    <tr>\n",
       "      <th>2</th>\n",
       "      <td>0</td>\n",
       "      <td>2261930956</td>\n",
       "      <td>Sat Jun 20 21:35:32 PDT 2009</td>\n",
       "      <td>NO_QUERY</td>\n",
       "      <td>nowthatsasandra</td>\n",
       "      <td>sad part  im not going to cry.... tears*</td>\n",
       "    </tr>\n",
       "    <tr>\n",
       "      <th>3</th>\n",
       "      <td>0</td>\n",
       "      <td>2061819960</td>\n",
       "      <td>Sat Jun 06 21:41:19 PDT 2009</td>\n",
       "      <td>NO_QUERY</td>\n",
       "      <td>beautifulcity</td>\n",
       "      <td>WHY ARE DRUNKS SO LOUD. stupid dock right next...</td>\n",
       "    </tr>\n",
       "    <tr>\n",
       "      <th>4</th>\n",
       "      <td>0</td>\n",
       "      <td>1678243705</td>\n",
       "      <td>Sat May 02 06:02:51 PDT 2009</td>\n",
       "      <td>NO_QUERY</td>\n",
       "      <td>geminilady75</td>\n",
       "      <td>@MariaBeckett Sorry to hear that hun</td>\n",
       "    </tr>\n",
       "  </tbody>\n",
       "</table>\n",
       "</div>"
      ],
      "text/plain": [
       "   0           1                             2         3                4  \\\n",
       "0  4  1834009132  Mon May 18 01:16:44 PDT 2009  NO_QUERY       Pete_Hyena   \n",
       "1  0  2058782290  Sat Jun 06 15:37:01 PDT 2009  NO_QUERY   serioussarcasm   \n",
       "2  0  2261930956  Sat Jun 20 21:35:32 PDT 2009  NO_QUERY  nowthatsasandra   \n",
       "3  0  2061819960  Sat Jun 06 21:41:19 PDT 2009  NO_QUERY    beautifulcity   \n",
       "4  0  1678243705  Sat May 02 06:02:51 PDT 2009  NO_QUERY     geminilady75   \n",
       "\n",
       "                                                   5  \n",
       "0  uguigkuygffjhfhjfhj is about how i feel today....  \n",
       "1  My voice is so tired from singing..i'm gonna k...  \n",
       "2           sad part  im not going to cry.... tears*  \n",
       "3  WHY ARE DRUNKS SO LOUD. stupid dock right next...  \n",
       "4              @MariaBeckett Sorry to hear that hun   "
      ]
     },
     "execution_count": 59,
     "metadata": {},
     "output_type": "execute_result"
    }
   ],
   "source": [
    "loaded_test_df.head()"
   ]
  },
  {
   "cell_type": "code",
   "execution_count": 66,
   "metadata": {},
   "outputs": [
    {
     "name": "stdout",
     "output_type": "stream",
     "text": [
      "[[ 0.  0.  0.  0.]\n",
      " [ 0.  0.  0.  0.]\n",
      " [ 0.  0.  0.  0.]]\n"
     ]
    }
   ],
   "source": [
    "print(np.zeros([3, 4]))"
   ]
  },
  {
   "cell_type": "code",
   "execution_count": null,
   "metadata": {
    "collapsed": true
   },
   "outputs": [],
   "source": []
  }
 ],
 "metadata": {
  "kernelspec": {
   "display_name": "Python 3",
   "language": "python",
   "name": "python3"
  },
  "language_info": {
   "codemirror_mode": {
    "name": "ipython",
    "version": 3
   },
   "file_extension": ".py",
   "mimetype": "text/x-python",
   "name": "python",
   "nbconvert_exporter": "python",
   "pygments_lexer": "ipython3",
   "version": "3.5.2"
  }
 },
 "nbformat": 4,
 "nbformat_minor": 2
}
